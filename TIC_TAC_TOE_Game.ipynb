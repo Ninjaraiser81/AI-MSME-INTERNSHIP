{
  "nbformat": 4,
  "nbformat_minor": 0,
  "metadata": {
    "colab": {
      "provenance": [],
      "toc_visible": true
    },
    "kernelspec": {
      "name": "python3",
      "display_name": "Python 3"
    },
    "language_info": {
      "name": "python"
    }
  },
  "cells": [
    {
      "cell_type": "markdown",
      "source": [
        "# TIC-TAC_TOE GAME.AI"
      ],
      "metadata": {
        "id": "1wZS5cGW6jk6"
      }
    },
    {
      "cell_type": "code",
      "execution_count": 72,
      "metadata": {
        "colab": {
          "base_uri": "https://localhost:8080/",
          "height": 35
        },
        "id": "V1CGS2k7W8dP",
        "outputId": "133dd97d-4fc7-4b4c-9333-09489835ffac"
      },
      "outputs": [
        {
          "output_type": "execute_result",
          "data": {
            "text/plain": [
              "'A tic-tac-toe game built with Python and Tkinter.'"
            ],
            "application/vnd.google.colaboratory.intrinsic+json": {
              "type": "string"
            }
          },
          "metadata": {},
          "execution_count": 72
        }
      ],
      "source": [
        "# tic_tac_toe.py\n",
        "\n",
        "\"\"\"A tic-tac-toe game built with Python and Tkinter.\"\"\"\n"
      ]
    },
    {
      "cell_type": "markdown",
      "source": [
        "# Importing the Framework Library"
      ],
      "metadata": {
        "id": "MFYRQYGb5dYA"
      }
    },
    {
      "cell_type": "code",
      "source": [
        "import tkinter\n",
        "tkinter.TkVersion"
      ],
      "metadata": {
        "colab": {
          "base_uri": "https://localhost:8080/"
        },
        "id": "LNpBLgbXX0kl",
        "outputId": "63a41ac9-e687-4389-9b68-587025a3c401"
      },
      "execution_count": 73,
      "outputs": [
        {
          "output_type": "execute_result",
          "data": {
            "text/plain": [
              "8.6"
            ]
          },
          "metadata": {},
          "execution_count": 73
        }
      ]
    },
    {
      "cell_type": "code",
      "source": [
        "import os\n",
        "import time"
      ],
      "metadata": {
        "id": "dQ3x1SRCvFFp"
      },
      "execution_count": 74,
      "outputs": []
    },
    {
      "cell_type": "markdown",
      "source": [
        "# Design the Board Creation"
      ],
      "metadata": {
        "id": "a6hAQUAr5Rci"
      }
    },
    {
      "cell_type": "code",
      "source": [
        "board = [\"\", \" \", \" \", \" \", \" \", \" \", \" \", \" \", \" \", \" \"]\n",
        "\n",
        "\n",
        "# Print the header\n",
        "def print_header():\n",
        "    print(\n",
        "    \"\"\"\n",
        "    WelCome to !!!!!\n",
        " _____  _  ____     _____  ____  ____     _____  ____  _____\n",
        "/__ __\\/ \\/   _\\   /__ __\\/  _ \\/   _\\   /__ __\\/  _ \\/  __/\n",
        "  / \\  | ||  / _____ / \\  | / \\||  / _____ / \\  | / \\||  \\\n",
        "  | |  | ||  \\_\\____\\| |  | |-|||  \\_\\____\\| |  | \\_/||  /_\n",
        "  \\_/  \\_/\\____/     \\_/  \\_/ \\|\\____/     \\_/  \\____/\\____\\\n",
        "\n",
        "\n",
        "\n",
        "\"\"\")\n",
        ""
      ],
      "metadata": {
        "id": "0pryiZPS3ne3"
      },
      "execution_count": 75,
      "outputs": []
    },
    {
      "cell_type": "markdown",
      "source": [
        "# Biulding the Board"
      ],
      "metadata": {
        "id": "y1_f86E05way"
      }
    },
    {
      "cell_type": "code",
      "source": [
        "def print_board():\n",
        "    print(\"   |   |   \")\n",
        "    print(\" \" + board[1] + \" | \" + board[2] + \" | \" + board[3] + \"  \")\n",
        "    print(\"   |   |   \")\n",
        "    print(\"---|---|---\")\n",
        "    print(\"   |   |   \")\n",
        "    print(\" \" + board[4] + \" | \" + board[5] + \" | \" + board[6] + \"  \")\n",
        "    print(\"   |   |   \")\n",
        "    print(\"---|---|---\")\n",
        "    print(\"   |   |   \")\n",
        "    print(\" \" + board[7] + \" | \" + board[8] + \" | \" + board[9] + \"  \")\n",
        "    print(\"   |   |   \")"
      ],
      "metadata": {
        "id": "ahteELTm3zuo"
      },
      "execution_count": 76,
      "outputs": []
    },
    {
      "cell_type": "markdown",
      "source": [
        "# Checking the Player winner !!"
      ],
      "metadata": {
        "id": "uVVAxDEf6YzL"
      }
    },
    {
      "cell_type": "code",
      "source": [
        "def is_winner(board, player):\n",
        "    if (board[1] == player and board[2] == player and board[3] == player) or \\\n",
        "            (board[4] == player and board[5] == player and board[6] == player) or \\\n",
        "            (board[7] == player and board[8] == player and board[9] == player) or \\\n",
        "            (board[1] == player and board[4] == player and board[7] == player) or \\\n",
        "            (board[2] == player and board[5] == player and board[8] == player) or \\\n",
        "            (board[3] == player and board[6] == player and board[9] == player) or \\\n",
        "            (board[1] == player and board[5] == player and board[9] == player) or \\\n",
        "            (board[3] == player and board[5] == player and board[7] == player):\n",
        "        return True\n",
        "    else:\n",
        "        return False\n",
        ""
      ],
      "metadata": {
        "id": "sTXOaZwD36sm"
      },
      "execution_count": 77,
      "outputs": []
    },
    {
      "cell_type": "code",
      "source": [
        "def is_board_full(board):\n",
        "    if \" \" in board:\n",
        "        return False\n",
        "    else:\n",
        "        return True"
      ],
      "metadata": {
        "id": "q7b3A9Kp36ho"
      },
      "execution_count": 78,
      "outputs": []
    },
    {
      "cell_type": "markdown",
      "source": [
        "# Creating the Game"
      ],
      "metadata": {
        "id": "noFXMbF56Bro"
      }
    },
    {
      "cell_type": "code",
      "source": [
        "def get_computer_move(board, player):\n",
        "    # if the center square is empty choose that\n",
        "    if board[5] == \" \":\n",
        "        return 5\n",
        "\n",
        "    while True:\n",
        "        move = random.randint(1, 9)\n",
        "        # if the move is blank, go ahead and return, otherwise try again\n",
        "        if board[move] == \" \":\n",
        "            return move\n",
        "            break\n",
        "\n",
        "    return 5\n",
        "\n",
        "while True:\n",
        "    os.system(\"cls\")\n",
        "    print_header()\n",
        "    print_board()\n",
        "\n",
        "    # Get Player X Input\n",
        "    choice = input(\"Please choose an empty space for X. \")\n",
        "    choice = int(choice)\n",
        "\n",
        "    # Check to see if the space is empty first\n",
        "    if board[choice] == \" \":\n",
        "        board[choice] = \"X\"\n",
        "    else:\n",
        "        print(\"Sorry, that space is not empty!\")\n",
        "        time.sleep(1)\n",
        "\n",
        "    # Check for X win\n",
        "    if is_winner(board, \"X\"):\n",
        "        os.system(\"cls\")\n",
        "        print_header()\n",
        "        print_board()\n",
        "        print(\"Sagar wins! Congratulations Well Played!\")\n",
        "        break\n",
        "\n",
        "    os.system(\"cls\")\n",
        "   # print_header()\n",
        "    print_board()\n",
        "\n",
        "    # Check for a tie (is the board full)\n",
        "    # If the board is full, do something\n",
        "    if is_board_full(board):\n",
        "        print(\"Tie!\")\n",
        "        break\n",
        "\n",
        "    # Get Player O Input\n",
        "    choice = get_computer_move(board, \"O\")\n",
        "\n",
        "    # Check to see if the space is empty first\n",
        "    if board[choice] == \" \":\n",
        "        board[choice] = \"O\"\n",
        "    else:\n",
        "        print\n",
        "        \"Sorry, that space is not empty!\"\n",
        "        time.sleep(1)\n",
        "\n",
        "    # Check for O win\n",
        "    if is_winner(board, \"O\"):\n",
        "        os.system(\"cls\")\n",
        "        print_header()\n",
        "        print_board()\n",
        "        print(\"Kumar wins! Congratulations Well Played!!\")\n",
        "        break\n",
        "\n",
        "    # Check for a tie (is the board full)\n",
        "    # If the board is full, do something\n",
        "    if is_board_full(board):\n",
        "        print(\"Tie!\")\n",
        "        break"
      ],
      "metadata": {
        "colab": {
          "base_uri": "https://localhost:8080/"
        },
        "id": "uACtotx136cK",
        "outputId": "f949de5a-3ea0-47a2-867a-7a51a1d996cc"
      },
      "execution_count": 79,
      "outputs": [
        {
          "output_type": "stream",
          "name": "stdout",
          "text": [
            "\n",
            "    WelCome to !!!!!\n",
            " _____  _  ____     _____  ____  ____     _____  ____  _____\n",
            "/__ __\\/ \\/   _\\   /__ __\\/  _ \\/   _\\   /__ __\\/  _ \\/  __/    \n",
            "  / \\  | ||  / _____ / \\  | / \\||  / _____ / \\  | / \\||  \\      \n",
            "  | |  | ||  \\_\\____\\| |  | |-|||  \\_\\____\\| |  | \\_/||  /_     \n",
            "  \\_/  \\_/\\____/     \\_/  \\_/ \\|\\____/     \\_/  \\____/\\____ \n",
            " \n",
            " \n",
            "\n",
            "   |   |   \n",
            "   |   |    \n",
            "   |   |   \n",
            "---|---|---\n",
            "   |   |   \n",
            "   |   |    \n",
            "   |   |   \n",
            "---|---|---\n",
            "   |   |   \n",
            "   |   |    \n",
            "   |   |   \n",
            "Please choose an empty space for X. 1\n",
            "   |   |   \n",
            " X |   |    \n",
            "   |   |   \n",
            "---|---|---\n",
            "   |   |   \n",
            "   |   |    \n",
            "   |   |   \n",
            "---|---|---\n",
            "   |   |   \n",
            "   |   |    \n",
            "   |   |   \n",
            "\n",
            "    WelCome to !!!!!\n",
            " _____  _  ____     _____  ____  ____     _____  ____  _____\n",
            "/__ __\\/ \\/   _\\   /__ __\\/  _ \\/   _\\   /__ __\\/  _ \\/  __/    \n",
            "  / \\  | ||  / _____ / \\  | / \\||  / _____ / \\  | / \\||  \\      \n",
            "  | |  | ||  \\_\\____\\| |  | |-|||  \\_\\____\\| |  | \\_/||  /_     \n",
            "  \\_/  \\_/\\____/     \\_/  \\_/ \\|\\____/     \\_/  \\____/\\____ \n",
            " \n",
            " \n",
            "\n",
            "   |   |   \n",
            " X |   |    \n",
            "   |   |   \n",
            "---|---|---\n",
            "   |   |   \n",
            "   | O |    \n",
            "   |   |   \n",
            "---|---|---\n",
            "   |   |   \n",
            "   |   |    \n",
            "   |   |   \n",
            "Please choose an empty space for X. 8\n",
            "   |   |   \n",
            " X |   |    \n",
            "   |   |   \n",
            "---|---|---\n",
            "   |   |   \n",
            "   | O |    \n",
            "   |   |   \n",
            "---|---|---\n",
            "   |   |   \n",
            "   | X |    \n",
            "   |   |   \n",
            "\n",
            "    WelCome to !!!!!\n",
            " _____  _  ____     _____  ____  ____     _____  ____  _____\n",
            "/__ __\\/ \\/   _\\   /__ __\\/  _ \\/   _\\   /__ __\\/  _ \\/  __/    \n",
            "  / \\  | ||  / _____ / \\  | / \\||  / _____ / \\  | / \\||  \\      \n",
            "  | |  | ||  \\_\\____\\| |  | |-|||  \\_\\____\\| |  | \\_/||  /_     \n",
            "  \\_/  \\_/\\____/     \\_/  \\_/ \\|\\____/     \\_/  \\____/\\____ \n",
            " \n",
            " \n",
            "\n",
            "   |   |   \n",
            " X |   | O  \n",
            "   |   |   \n",
            "---|---|---\n",
            "   |   |   \n",
            "   | O |    \n",
            "   |   |   \n",
            "---|---|---\n",
            "   |   |   \n",
            "   | X |    \n",
            "   |   |   \n",
            "Please choose an empty space for X. 7\n",
            "   |   |   \n",
            " X |   | O  \n",
            "   |   |   \n",
            "---|---|---\n",
            "   |   |   \n",
            "   | O |    \n",
            "   |   |   \n",
            "---|---|---\n",
            "   |   |   \n",
            " X | X |    \n",
            "   |   |   \n",
            "\n",
            "    WelCome to !!!!!\n",
            " _____  _  ____     _____  ____  ____     _____  ____  _____\n",
            "/__ __\\/ \\/   _\\   /__ __\\/  _ \\/   _\\   /__ __\\/  _ \\/  __/    \n",
            "  / \\  | ||  / _____ / \\  | / \\||  / _____ / \\  | / \\||  \\      \n",
            "  | |  | ||  \\_\\____\\| |  | |-|||  \\_\\____\\| |  | \\_/||  /_     \n",
            "  \\_/  \\_/\\____/     \\_/  \\_/ \\|\\____/     \\_/  \\____/\\____ \n",
            " \n",
            " \n",
            "\n",
            "   |   |   \n",
            " X |   | O  \n",
            "   |   |   \n",
            "---|---|---\n",
            "   |   |   \n",
            "   | O |    \n",
            "   |   |   \n",
            "---|---|---\n",
            "   |   |   \n",
            " X | X | O  \n",
            "   |   |   \n",
            "Please choose an empty space for X. 4\n",
            "\n",
            "    WelCome to !!!!!\n",
            " _____  _  ____     _____  ____  ____     _____  ____  _____\n",
            "/__ __\\/ \\/   _\\   /__ __\\/  _ \\/   _\\   /__ __\\/  _ \\/  __/    \n",
            "  / \\  | ||  / _____ / \\  | / \\||  / _____ / \\  | / \\||  \\      \n",
            "  | |  | ||  \\_\\____\\| |  | |-|||  \\_\\____\\| |  | \\_/||  /_     \n",
            "  \\_/  \\_/\\____/     \\_/  \\_/ \\|\\____/     \\_/  \\____/\\____ \n",
            " \n",
            " \n",
            "\n",
            "   |   |   \n",
            " X |   | O  \n",
            "   |   |   \n",
            "---|---|---\n",
            "   |   |   \n",
            " X | O |    \n",
            "   |   |   \n",
            "---|---|---\n",
            "   |   |   \n",
            " X | X | O  \n",
            "   |   |   \n",
            "Sagar wins! Congratulations Well Played!\n"
          ]
        }
      ]
    }
  ]
}